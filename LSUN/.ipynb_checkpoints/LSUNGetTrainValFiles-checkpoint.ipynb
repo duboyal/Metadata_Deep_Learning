{
 "cells": [
  {
   "cell_type": "markdown",
   "metadata": {},
   "source": [
    "## Formatting the file structure correctly to be fed into the model\n",
    "\n",
    "#### (output: train, val, test folders)\n",
    "\n"
   ]
  },
  {
   "cell_type": "code",
   "execution_count": 1,
   "metadata": {
    "collapsed": true
   },
   "outputs": [],
   "source": [
    "import pandas as pd\n",
    "import os\n",
    "from sklearn.preprocessing import LabelEncoder"
   ]
  },
  {
   "cell_type": "code",
   "execution_count": 3,
   "metadata": {},
   "outputs": [
    {
     "name": "stdout",
     "output_type": "stream",
     "text": [
      "/home/Alex/LSUN\n"
     ]
    }
   ],
   "source": [
    "os.getcwd()"
   ]
  },
  {
   "cell_type": "code",
   "execution_count": 24,
   "metadata": {
    "collapsed": true
   },
   "outputs": [],
   "source": [
    "PATH = \"/home/DATASETS/LSUN/data/\""
   ]
  },
  {
   "cell_type": "code",
   "execution_count": 26,
   "metadata": {
    "collapsed": true
   },
   "outputs": [],
   "source": [
    "trainPATH = f\"{PATH}/train/\""
   ]
  },
  {
   "cell_type": "code",
   "execution_count": 29,
   "metadata": {
    "collapsed": true
   },
   "outputs": [],
   "source": [
    "valPATH = f\"{PATH}/valid/\""
   ]
  },
  {
   "cell_type": "markdown",
   "metadata": {},
   "source": [
    "reads all of the file names and makes a csv file out of it"
   ]
  },
  {
   "cell_type": "code",
   "execution_count": 18,
   "metadata": {
    "collapsed": true
   },
   "outputs": [],
   "source": [
    "def getTrainFile(trainPATH):\n",
    "    ImagePaths = []\n",
    "    for r, d, f in os.walk(trainPATH):\n",
    "        for file in f:\n",
    "            ImagePaths.append(os.path.join(r, file))\n",
    "    train = pd.DataFrame({'path':[],'name':[],'label':[]})\n",
    "    train['path'] = ImagePaths\n",
    "    train['name'] = train['path'].apply(lambda x : x.split(\"/\")[6])\n",
    "    train['label'] = train['name'].apply(lambda x : x.split(\"_\")[0])\n",
    "    return train"
   ]
  },
  {
   "cell_type": "markdown",
   "metadata": {},
   "source": [
    "train and val need to be organized in separate folders "
   ]
  },
  {
   "cell_type": "code",
   "execution_count": 27,
   "metadata": {
    "collapsed": true
   },
   "outputs": [],
   "source": [
    "train = getTrainFile(trainPATH)\n",
    "val = getTrainFile(valPATH)"
   ]
  },
  {
   "cell_type": "code",
   "execution_count": 20,
   "metadata": {
    "collapsed": true
   },
   "outputs": [],
   "source": [
    "trainPlusVal = train.append(val)\n",
    "trainPlusVal['encoded_label'] = 0"
   ]
  },
  {
   "cell_type": "markdown",
   "metadata": {},
   "source": [
    "we label encode train + val at once to ensure the same labels\n",
    "\n",
    "we then split the entire dataset into tran, val, test folders"
   ]
  },
  {
   "cell_type": "code",
   "execution_count": 21,
   "metadata": {
    "collapsed": true
   },
   "outputs": [],
   "source": [
    "lb = LabelEncoder()\n",
    "trainPlusVal['encoded_label'] = lb.fit_transform(trainPlusVal['label'])\n",
    "train = trainPlusVal[:1000]\n",
    "val = trainPlusVal[1000:1500]\n",
    "test = trainPlusVal[1500:]"
   ]
  },
  {
   "cell_type": "markdown",
   "metadata": {},
   "source": [
    "output these to path files"
   ]
  },
  {
   "cell_type": "code",
   "execution_count": 23,
   "metadata": {
    "collapsed": true
   },
   "outputs": [],
   "source": [
    "train.to_csv(f\"{PATH}/train.csv\",index=False)\n",
    "val.to_csv(f\"{PATH}/valid.csv\",index=False)\n",
    "test.to_csv(f\"{PATH}/test.csv\",index=False)"
   ]
  },
  {
   "cell_type": "code",
   "execution_count": null,
   "metadata": {
    "collapsed": true
   },
   "outputs": [],
   "source": []
  }
 ],
 "metadata": {
  "kernelspec": {
   "display_name": "Python 3",
   "language": "python",
   "name": "python3"
  },
  "language_info": {
   "codemirror_mode": {
    "name": "ipython",
    "version": 3
   },
   "file_extension": ".py",
   "mimetype": "text/x-python",
   "name": "python",
   "nbconvert_exporter": "python",
   "pygments_lexer": "ipython3",
   "version": "3.6.5"
  }
 },
 "nbformat": 4,
 "nbformat_minor": 2
}
