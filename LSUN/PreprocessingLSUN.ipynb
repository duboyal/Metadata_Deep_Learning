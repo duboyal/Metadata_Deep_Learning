{
 "cells": [
  {
   "cell_type": "markdown",
   "metadata": {},
   "source": [
    "### This file maps the lassoed and deselected images to its links and classses"
   ]
  },
  {
   "cell_type": "code",
   "execution_count": 1,
   "metadata": {
    "collapsed": true
   },
   "outputs": [],
   "source": [
    "import pandas as pd\n",
    "from sklearn.preprocessing import LabelEncoder"
   ]
  },
  {
   "cell_type": "code",
   "execution_count": 2,
   "metadata": {
    "collapsed": true
   },
   "outputs": [],
   "source": [
    "lb = LabelEncoder()"
   ]
  },
  {
   "cell_type": "code",
   "execution_count": 3,
   "metadata": {
    "collapsed": true
   },
   "outputs": [],
   "source": [
    "PATH = \"/home/DATASETS/LSUN/data/\""
   ]
  },
  {
   "cell_type": "code",
   "execution_count": 4,
   "metadata": {
    "collapsed": true
   },
   "outputs": [],
   "source": [
    "train = pd.read_csv(f'{PATH}/train.csv')"
   ]
  },
  {
   "cell_type": "code",
   "execution_count": 6,
   "metadata": {
    "collapsed": true
   },
   "outputs": [],
   "source": [
    "train['encoded_label'] = lb.fit_transform(train['label'])"
   ]
  },
  {
   "cell_type": "code",
   "execution_count": 7,
   "metadata": {
    "collapsed": true
   },
   "outputs": [],
   "source": [
    "train.to_csv(f'{PATH}/train.csv',index=False)"
   ]
  },
  {
   "cell_type": "code",
   "execution_count": 8,
   "metadata": {
    "collapsed": true
   },
   "outputs": [],
   "source": [
    "mapping = pd.read_csv(f'{PATH}/mapping_lsun.csv',index_col=False)\n",
    "lasso = pd.read_csv(f'{PATH}/lasso_lsun_layer5.csv',index_col=False,names = ['link'])\n",
    "deselect = pd.read_csv(f'{PATH}/deselect_lsun_layer5.csv',index_col=False, names=['link'])"
   ]
  },
  {
   "cell_type": "code",
   "execution_count": 11,
   "metadata": {
    "collapsed": true
   },
   "outputs": [],
   "source": [
    "mapping['link'] = mapping['link'].astype(str).str[37:-6]\n",
    "lasso['link'] = lasso['link'].astype(str).str[34:-7]\n",
    "deselect['link'] = deselect['link'].astype(str).str[34:-7]"
   ]
  },
  {
   "cell_type": "code",
   "execution_count": 13,
   "metadata": {
    "collapsed": true
   },
   "outputs": [],
   "source": [
    "mapping['name'] = mapping['name'].astype(str).str[3:-2]\n",
    "mapping['label'] = mapping['name'].apply(lambda x : x.split(\"_\")[0])\n",
    "mapping['encoded_label'] = lb.transform(mapping['label'])"
   ]
  },
  {
   "cell_type": "code",
   "execution_count": 15,
   "metadata": {
    "collapsed": true
   },
   "outputs": [],
   "source": [
    "lasso_mapping = pd.merge(lasso,mapping,on='link')\n",
    "deselect_mapping = pd.merge(deselect,mapping,on='link')\n",
    "lasso_mapping['path'] = '/home/DATASETS/LSUN/data/train/' + lasso_mapping['name']\n",
    "deselect_mapping['path'] = '/home/DATASETS/LSUN/data/train/' + deselect_mapping['name']"
   ]
  },
  {
   "cell_type": "code",
   "execution_count": 21,
   "metadata": {
    "collapsed": true
   },
   "outputs": [],
   "source": [
    "lasso_mapping = lasso_mapping.sample(frac=1)\n",
    "deselect_mapping = deselect_mapping.sample(frac=1)"
   ]
  },
  {
   "cell_type": "code",
   "execution_count": 22,
   "metadata": {
    "collapsed": true
   },
   "outputs": [],
   "source": [
    "lasso_mapping.to_csv(f'{PATH}/lsun_lasso_mapping.csv',index=False)\n",
    "deselect_mapping.to_csv(f'{PATH}/lsun_deselect_mapping.csv',index=False)"
   ]
  },
  {
   "cell_type": "code",
   "execution_count": 23,
   "metadata": {},
   "outputs": [
    {
     "data": {
      "text/html": [
       "<div>\n",
       "<style scoped>\n",
       "    .dataframe tbody tr th:only-of-type {\n",
       "        vertical-align: middle;\n",
       "    }\n",
       "\n",
       "    .dataframe tbody tr th {\n",
       "        vertical-align: top;\n",
       "    }\n",
       "\n",
       "    .dataframe thead th {\n",
       "        text-align: right;\n",
       "    }\n",
       "</style>\n",
       "<table border=\"1\" class=\"dataframe\">\n",
       "  <thead>\n",
       "    <tr style=\"text-align: right;\">\n",
       "      <th></th>\n",
       "      <th>link</th>\n",
       "      <th>name</th>\n",
       "      <th>label</th>\n",
       "      <th>encoded_label</th>\n",
       "      <th>path</th>\n",
       "    </tr>\n",
       "  </thead>\n",
       "  <tbody>\n",
       "    <tr>\n",
       "      <th>11</th>\n",
       "      <td>lKkc525_c-M7JXP1jrubXmz3wq9qSg3snKVHxmU2-uiDA_...</td>\n",
       "      <td>tower_106225.jpg</td>\n",
       "      <td>tower</td>\n",
       "      <td>9</td>\n",
       "      <td>/home/DATASETS/LSUN/data/train/tower_106225.jpg</td>\n",
       "    </tr>\n",
       "    <tr>\n",
       "      <th>126</th>\n",
       "      <td>WdSaCQ-GQSLu0py71hC5TQII5tsfMJK-NkmU08UsrrMLoK...</td>\n",
       "      <td>class_101464.jpg</td>\n",
       "      <td>class</td>\n",
       "      <td>3</td>\n",
       "      <td>/home/DATASETS/LSUN/data/train/class_101464.jpg</td>\n",
       "    </tr>\n",
       "    <tr>\n",
       "      <th>33</th>\n",
       "      <td>RplwLvXQuCf8m7If4ZIZCBFFGo9VPTCBX0tpQWAD0xbunY...</td>\n",
       "      <td>tower_100525.jpg</td>\n",
       "      <td>tower</td>\n",
       "      <td>9</td>\n",
       "      <td>/home/DATASETS/LSUN/data/train/tower_100525.jpg</td>\n",
       "    </tr>\n",
       "    <tr>\n",
       "      <th>121</th>\n",
       "      <td>rxoHy6U0S-4tW4ULnQesXgmNF3R9fs8PiSpsy_5Q0xCifn...</td>\n",
       "      <td>conf_100683.jpg</td>\n",
       "      <td>conf</td>\n",
       "      <td>4</td>\n",
       "      <td>/home/DATASETS/LSUN/data/train/conf_100683.jpg</td>\n",
       "    </tr>\n",
       "    <tr>\n",
       "      <th>125</th>\n",
       "      <td>nRtKWlg_BQi6e7fcwg-GjNvMCILHYW5-RYTKlqrvCbJnzu...</td>\n",
       "      <td>restaurant_103250.jpg</td>\n",
       "      <td>restaurant</td>\n",
       "      <td>8</td>\n",
       "      <td>/home/DATASETS/LSUN/data/train/restaurant_1032...</td>\n",
       "    </tr>\n",
       "  </tbody>\n",
       "</table>\n",
       "</div>"
      ],
      "text/plain": [
       "                                                  link                   name  \\\n",
       "11   lKkc525_c-M7JXP1jrubXmz3wq9qSg3snKVHxmU2-uiDA_...       tower_106225.jpg   \n",
       "126  WdSaCQ-GQSLu0py71hC5TQII5tsfMJK-NkmU08UsrrMLoK...       class_101464.jpg   \n",
       "33   RplwLvXQuCf8m7If4ZIZCBFFGo9VPTCBX0tpQWAD0xbunY...       tower_100525.jpg   \n",
       "121  rxoHy6U0S-4tW4ULnQesXgmNF3R9fs8PiSpsy_5Q0xCifn...        conf_100683.jpg   \n",
       "125  nRtKWlg_BQi6e7fcwg-GjNvMCILHYW5-RYTKlqrvCbJnzu...  restaurant_103250.jpg   \n",
       "\n",
       "          label  encoded_label  \\\n",
       "11        tower              9   \n",
       "126       class              3   \n",
       "33        tower              9   \n",
       "121        conf              4   \n",
       "125  restaurant              8   \n",
       "\n",
       "                                                  path  \n",
       "11     /home/DATASETS/LSUN/data/train/tower_106225.jpg  \n",
       "126    /home/DATASETS/LSUN/data/train/class_101464.jpg  \n",
       "33     /home/DATASETS/LSUN/data/train/tower_100525.jpg  \n",
       "121     /home/DATASETS/LSUN/data/train/conf_100683.jpg  \n",
       "125  /home/DATASETS/LSUN/data/train/restaurant_1032...  "
      ]
     },
     "execution_count": 23,
     "metadata": {},
     "output_type": "execute_result"
    }
   ],
   "source": [
    "lasso_mapping.head()"
   ]
  },
  {
   "cell_type": "code",
   "execution_count": null,
   "metadata": {
    "collapsed": true
   },
   "outputs": [],
   "source": []
  },
  {
   "cell_type": "markdown",
   "metadata": {},
   "source": [
    "### Make new train file with combination of deselect and lasso"
   ]
  },
  {
   "cell_type": "code",
   "execution_count": 31,
   "metadata": {
    "collapsed": true
   },
   "outputs": [],
   "source": [
    "train_meta = train.sample(frac=0.8)"
   ]
  },
  {
   "cell_type": "code",
   "execution_count": 32,
   "metadata": {
    "collapsed": true
   },
   "outputs": [],
   "source": [
    "train_meta = train_meta.append(deselect_mapping.drop(['link'],axis=1),sort=False)\n",
    "train_meta = train_meta.append(deselect_mapping.drop(['link'],axis=1),sort=False)\n",
    "train_meta = train_meta.append(lasso_mapping.drop(['link'],axis=1),sort=False)"
   ]
  },
  {
   "cell_type": "code",
   "execution_count": 33,
   "metadata": {},
   "outputs": [
    {
     "data": {
      "text/plain": [
       "1052"
      ]
     },
     "execution_count": 33,
     "metadata": {},
     "output_type": "execute_result"
    }
   ],
   "source": [
    "len(train_meta)"
   ]
  },
  {
   "cell_type": "code",
   "execution_count": 34,
   "metadata": {
    "collapsed": true
   },
   "outputs": [],
   "source": [
    "train_meta.to_csv(f'{PATH}/train_meta.csv',index=False)"
   ]
  },
  {
   "cell_type": "code",
   "execution_count": null,
   "metadata": {
    "collapsed": true
   },
   "outputs": [],
   "source": []
  }
 ],
 "metadata": {
  "kernelspec": {
   "display_name": "Python 3",
   "language": "python",
   "name": "python3"
  },
  "language_info": {
   "codemirror_mode": {
    "name": "ipython",
    "version": 3
   },
   "file_extension": ".py",
   "mimetype": "text/x-python",
   "name": "python",
   "nbconvert_exporter": "python",
   "pygments_lexer": "ipython3",
   "version": "3.6.5"
  }
 },
 "nbformat": 4,
 "nbformat_minor": 2
}
